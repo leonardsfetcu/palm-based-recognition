{
 "cells": [
  {
   "cell_type": "code",
   "execution_count": 1,
   "id": "69a9a2b3-aba4-4476-b7a6-a641e812c5a3",
   "metadata": {},
   "outputs": [
    {
     "name": "stdout",
     "output_type": "stream",
     "text": [
      "/home/leonard/Desktop/PyProjects/palm-cnn\n"
     ]
    }
   ],
   "source": [
    "import shutil\n",
    "from keras import layers\n",
    "from keras import models\n",
    "from tensorflow.keras import optimizers\n",
    "from palmtools import plotModelStats\n",
    "from palmtools import datasetCounter\n",
    "from palmtools import extractFeatures\n",
    "from palmtools import createDirectoryArch\n",
    "from keras.preprocessing.image import ImageDataGenerator\n",
    "from tensorflow.keras.applications import VGG16\n",
    "from tensorflow.keras.applications import ResNet50\n",
    "from tensorflow.keras.applications import VGG19\n",
    "from tensorflow.keras import callbacks\n",
    "from tensorflow.keras.models import load_model\n",
    "import palmtools\n",
    "import const\n",
    "import os\n",
    "import numpy as np\n",
    "\n",
    "%cd '/home/leonard/Desktop/PyProjects/palm-cnn/'"
   ]
  },
  {
   "cell_type": "code",
   "execution_count": 2,
   "id": "78609f82-4a0c-4802-9701-b91ac4d61abe",
   "metadata": {},
   "outputs": [],
   "source": [
    "train_ratio = 0.75\n",
    "valid_ratio = 0.15\n",
    "test_ratio = 0.10"
   ]
  },
  {
   "cell_type": "code",
   "execution_count": 6,
   "id": "deb009b1-5fea-4697-9ee0-2580e7d5b160",
   "metadata": {},
   "outputs": [],
   "source": [
    "files = palmtools.getFilesArray(const.GENERATED,const.PALM)\n",
    "palmtools.createDataset(const.PALM,files,train_ratio, valid_ratio, test_ratio)"
   ]
  },
  {
   "cell_type": "code",
   "execution_count": 10,
   "id": "c5cd71e8-b536-4b69-98a7-689f44828127",
   "metadata": {},
   "outputs": [
    {
     "data": {
      "text/plain": [
       "['/home/leonard/Desktop/PyProjects/palm-cnn/FYODB/Generated_Images/Session1/Palm/',\n",
       " 's33_8_R_S2.jpg',\n",
       " 's1.',\n",
       " '33_R',\n",
       " 33,\n",
       " 44,\n",
       " 101]"
      ]
     },
     "execution_count": 10,
     "metadata": {},
     "output_type": "execute_result"
    }
   ],
   "source": [
    "files[5245]"
   ]
  },
  {
   "cell_type": "code",
   "execution_count": null,
   "id": "6ffe7f83-a03a-4212-9765-e4093d520572",
   "metadata": {},
   "outputs": [],
   "source": [
    "train_ratio = 0.8\n",
    "valid_ratio = 0.2\n",
    "test_ratio = 0"
   ]
  },
  {
   "cell_type": "code",
   "execution_count": null,
   "id": "3139fd8a-d965-4624-a5cf-8c01901eacaf",
   "metadata": {},
   "outputs": [],
   "source": [
    "files = palmtools.getFilesArray(const.ROI,const.PALM)\n",
    "palmtools.createDataset(const.PALM,files,train_ratio, valid_ratio, test_ratio)"
   ]
  },
  {
   "cell_type": "code",
   "execution_count": null,
   "id": "2cbb2415-3a60-46d4-b890-bd3d8214d808",
   "metadata": {
    "tags": []
   },
   "outputs": [],
   "source": [
    "conv_base_vgg16 = VGG16(weights='imagenet', include_top=False,\n",
    "                      input_shape=(150,150,3))"
   ]
  },
  {
   "cell_type": "code",
   "execution_count": null,
   "id": "a75b6634-dd0f-4d21-b304-a60f1b11184d",
   "metadata": {
    "tags": []
   },
   "outputs": [],
   "source": [
    "# inghetarea straturilor pentru a preveni alterarea ponderilor preantrenate\n",
    "print(\"Nr. parametrii antrenabili VGG16: \",len(conv_base_vgg16.trainable_weights))\n",
    "\n",
    "conv_base_vgg16.trainable = False\n",
    "\n",
    "print(\"Nr. parametrii antrenabili VGG16: \",len(conv_base_vgg16.trainable_weights))\n"
   ]
  },
  {
   "cell_type": "code",
   "execution_count": null,
   "id": "92e88232-d823-4bde-bf93-32324d6f3df6",
   "metadata": {
    "tags": []
   },
   "outputs": [],
   "source": [
    "vgg16_out_shape = (4, 4, 512)\n",
    "vgg19_out_shape = (4, 4, 512)\n",
    "resnet_out_shape= (5, 5, 2048)\n",
    "\n",
    "batch_size = 32\n",
    "#rotation_range=15, width_shift_range=0.02, height_shift_range=0.01, shear_range=0.01, zoom_range=[0.9, 1.25], horizontal_flip=False, fill_mode='nearest', brightness_range=[0.3, 1]"
   ]
  },
  {
   "cell_type": "code",
   "execution_count": null,
   "id": "91aec907-3d14-4406-86c4-d507f089b393",
   "metadata": {},
   "outputs": [],
   "source": [
    "\n",
    "image_gen = ImageDataGenerator(rescale = 1./255)\n",
    "\n",
    "palm_train_generator = image_gen.flow_from_directory(\n",
    "    const.PALM_DS_DIR + const.TRAIN_DIR,\n",
    "    target_size=(150,150),\n",
    "    batch_size=batch_size,\n",
    "    class_mode='categorical'\n",
    ")\n",
    "\n",
    "palm_valid_generator = image_gen.flow_from_directory(\n",
    "    const.PALM_DS_DIR + const.VALID_DIR,\n",
    "    target_size=(150,150),\n",
    "    batch_size=batch_size,\n",
    "    class_mode='categorical'\n",
    ")\n",
    "\n",
    "palm_test_generator = image_gen.flow_from_directory(\n",
    "    const.PALM_DS_DIR + const.TEST_DIR,\n",
    "    target_size=(150,150),\n",
    "    batch_size=batch_size,\n",
    "    class_mode='categorical'\n",
    ")"
   ]
  },
  {
   "cell_type": "code",
   "execution_count": null,
   "id": "eb02a086-a461-47fa-bf8f-18cb99343951",
   "metadata": {
    "tags": []
   },
   "outputs": [],
   "source": [
    "palm_train_features_vgg16, palm_train_labels_vgg16 = extractFeatures(conv_base_vgg16,\n",
    "                                                                     palm_train_generator,\n",
    "                                                                     (int(6400*train_ratio),) + vgg16_out_shape,\n",
    "                                                                     batch_size)"
   ]
  },
  {
   "cell_type": "code",
   "execution_count": null,
   "id": "c9739ab6-f84b-45c6-a3d3-826513873965",
   "metadata": {
    "tags": []
   },
   "outputs": [],
   "source": [
    "palm_valid_features_vgg16, palm_valid_labels_vgg16 = extractFeatures(conv_base_vgg16,\n",
    "                                                                      palm_valid_generator,\n",
    "                                                                      (int(6400*valid_ratio),) + vgg16_out_shape,\n",
    "                                                                      batch_size)\n",
    "\n"
   ]
  },
  {
   "cell_type": "code",
   "execution_count": null,
   "id": "3da85cce-2ebd-4ba8-b702-6dcb4ef7a0aa",
   "metadata": {
    "tags": []
   },
   "outputs": [],
   "source": [
    "vgg16_clasificator = models.Sequential()\n",
    "vgg16_clasificator.add(layers.Flatten())\n",
    "vgg16_clasificator.add(layers.Dense(4096, activation='relu', input_dim=(4 * 4 * 512)))\n",
    "vgg16_clasificator.add(layers.Dropout(0.5))\n",
    "vgg16_clasificator.add(layers.Dense(4096, activation='relu'))\n",
    "vgg16_clasificator.add(layers.Dropout(0.5))\n",
    "vgg16_clasificator.add(layers.Dense(160, activation='softmax'))\n",
    "vgg16_clasificator.compile(loss='categorical_crossentropy',\n",
    "                           metrics=['accuracy'],\n",
    "                           optimizer=optimizers.RMSprop(learning_rate=1e-5, momentum=0.9))"
   ]
  },
  {
   "cell_type": "code",
   "execution_count": null,
   "id": "e15b3fbf-3e8f-413d-92ce-3974447eec73",
   "metadata": {
    "tags": []
   },
   "outputs": [],
   "source": [
    "filepath = 'Models/Checkpoints/vgg16/Classifier/weights-improvment.hdf5'\n",
    "\n",
    "vgg16_clasificator_checkpoint = callbacks.ModelCheckpoint(\n",
    "    filepath=filepath,\n",
    "#    save_weights_only=True,\n",
    "    monitor='val_loss',\n",
    "    mode='min',\n",
    "    save_best_only=True,\n",
    "    verbose=1)\n",
    "\n",
    "early_stopping = callbacks.EarlyStopping(monitor='val_loss', patience=5)\n",
    "\n",
    "history_vgg16_clasificator = vgg16_clasificator.fit(palm_train_features_vgg16,palm_train_labels_vgg16,\n",
    "                      epochs=100,\n",
    "                      batch_size=batch_size,\n",
    "                      validation_data=(palm_valid_features_vgg16,palm_valid_labels_vgg16),\n",
    "                                                    callbacks=[early_stopping,vgg16_clasificator_checkpoint])\n"
   ]
  },
  {
   "cell_type": "code",
   "execution_count": null,
   "id": "08cad2ad-38be-4214-bcbc-79d5c89b1212",
   "metadata": {
    "tags": []
   },
   "outputs": [],
   "source": [
    "import pickle\n",
    "with open('Models/Checkpoints/vgg16/vgg16_clasificator_history', 'wb') as file_pi:\n",
    "    pickle.dump(history_vgg16_clasificator.history, file_pi)"
   ]
  },
  {
   "cell_type": "code",
   "execution_count": null,
   "id": "a3b429b9-de2d-42d9-9eca-8690e23872ae",
   "metadata": {
    "tags": []
   },
   "outputs": [],
   "source": [
    "plotModelStats(history_vgg16_clasificator)"
   ]
  },
  {
   "cell_type": "code",
   "execution_count": null,
   "id": "1f295071-8b93-4b01-909e-1faabfafda72",
   "metadata": {
    "tags": []
   },
   "outputs": [],
   "source": [
    "vgg16_clasificator.load_weights('Models/Checkpoints/vgg16/Classifier/weights-improvment.hdf5')"
   ]
  },
  {
   "cell_type": "code",
   "execution_count": null,
   "id": "4ec91b92-696e-45d8-9a72-2b926473095b",
   "metadata": {
    "tags": []
   },
   "outputs": [],
   "source": [
    "print(\"Numarul de parametrii antrenabili: \",len(conv_base_vgg16.trainable_weights))\n",
    "conv_base_vgg16.trainable = True\n",
    "set_trainable = False\n",
    "for layer in conv_base_vgg16.layers:\n",
    "    if ('block5' in layer.name):\n",
    "        set_trainable = True\n",
    "    if set_trainable:\n",
    "        layer.trainable = True\n",
    "    else:\n",
    "        layer.trainable = False\n",
    "print(\"Numarul de parametrii antrenabili: \",len(conv_base_vgg16.trainable_weights))\n",
    "conv_base_vgg16.compile(loss='categorical_crossentropy',\n",
    "                  metrics=['acc'])"
   ]
  },
  {
   "cell_type": "code",
   "execution_count": null,
   "id": "efae283a-dd59-445a-96ec-aac20fc7867f",
   "metadata": {
    "tags": []
   },
   "outputs": [],
   "source": [
    "model_complet = models.Sequential()\n",
    "\n",
    "model_complet.add(conv_base_vgg16)\n",
    "model_complet.add(vgg16_clasificator)\n",
    "\n",
    "model_complet.compile(loss='categorical_crossentropy',\n",
    "                      optimizer=optimizers.RMSprop(learning_rate=1e-5, momentum=0.9),\n",
    "                      metrics=['accuracy'])"
   ]
  },
  {
   "cell_type": "code",
   "execution_count": null,
   "id": "018be7c7-2bdc-4e09-8647-9db7685e57ee",
   "metadata": {
    "tags": []
   },
   "outputs": [],
   "source": [
    "filepath = 'Models/Checkpoints/vgg16/Model_complet/weights-improvment.hdf5'\n",
    "\n",
    "vgg16_model_checkpoint = callbacks.ModelCheckpoint(\n",
    "    filepath=filepath,\n",
    "#    save_weights_only=True,\n",
    "    monitor='val_loss',\n",
    "    mode='min',\n",
    "    save_best_only=True,\n",
    "    verbose=1)\n",
    "\n",
    "early_stopping = callbacks.EarlyStopping(monitor='val_loss', patience=5)\n",
    "\n",
    "\n",
    "history_complet = model_complet.fit(palm_train_generator,\n",
    "                      epochs=100,   \n",
    "                      batch_size=batch_size,\n",
    "                      validation_data=palm_valid_generator,\n",
    "                                   callbacks=[early_stopping,vgg16_model_checkpoint])"
   ]
  },
  {
   "cell_type": "code",
   "execution_count": null,
   "id": "c9173d72-c13a-4bf0-b64b-e904910dc728",
   "metadata": {
    "tags": []
   },
   "outputs": [],
   "source": [
    "plotModelStats(history_complet)"
   ]
  },
  {
   "cell_type": "code",
   "execution_count": null,
   "id": "19f505ae-a890-4961-9f4d-f77b3f601766",
   "metadata": {
    "tags": []
   },
   "outputs": [],
   "source": [
    "import pickle\n",
    "with open('Models/Checkpoints/vgg16/vgg16_model_complet_history', 'wb') as file_pi:\n",
    "    pickle.dump(history_complet.history, file_pi)"
   ]
  },
  {
   "cell_type": "code",
   "execution_count": null,
   "id": "77d2110c-ff86-4860-8a54-e37e7c0d98e2",
   "metadata": {
    "tags": []
   },
   "outputs": [],
   "source": [
    "test_loss, test_acc = model_complet.evaluate(palm_test_generator, steps=20)\n",
    "print('test acc:', test_acc)"
   ]
  },
  {
   "cell_type": "code",
   "execution_count": null,
   "id": "1717fdf9-3542-48c0-9e76-925287c45af3",
   "metadata": {
    "tags": []
   },
   "outputs": [],
   "source": [
    "conv_base_resnet = ResNet50(weights='imagenet',\n",
    "                  include_top=False,\n",
    "                  input_shape=(150,150,3))"
   ]
  },
  {
   "cell_type": "code",
   "execution_count": null,
   "id": "d0a00d48-89d1-4795-a724-42df79df9ace",
   "metadata": {
    "tags": []
   },
   "outputs": [],
   "source": [
    "# inghetarea straturilor pentru a preveni alterarea ponderilor preantrenate\n",
    "print(\"Nr. parametrii antrenabili ResNet50: \",len(conv_base_resnet.trainable_weights))\n",
    "\n",
    "conv_base_resnet.trainable = False\n",
    "\n",
    "print(\"Nr. parametrii antrenabili ResNet50: \",len(conv_base_resnet.trainable_weights))\n"
   ]
  },
  {
   "cell_type": "code",
   "execution_count": null,
   "id": "4d80e6fa-855f-49b1-bf44-bd8403e9a36d",
   "metadata": {
    "tags": []
   },
   "outputs": [],
   "source": [
    "palm_train_features_resnet, palm_train_labels_resnet = extractFeatures(conv_base_resnet, \n",
    "                                                                       palm_train_generator,\n",
    "                                                                       (int(6400*train_ratio),) + resnet_out_shape,\n",
    "                                                                       batch_size)\n",
    "\n"
   ]
  },
  {
   "cell_type": "code",
   "execution_count": null,
   "id": "7ec81514-3f3a-4896-b824-0b138951f5b1",
   "metadata": {
    "tags": []
   },
   "outputs": [],
   "source": [
    "palm_valid_features_resnet, palm_valid_labels_resnet = extractFeatures(conv_base_resnet,\n",
    "                                                                       palm_valid_generator,\n",
    "                                                                       (int(6400*valid_ratio),) + resnet_out_shape,\n",
    "                                                                       batch_size)\n",
    "\n"
   ]
  },
  {
   "cell_type": "code",
   "execution_count": null,
   "id": "936e389d-e6a6-40e3-a59f-65a6ec6fc430",
   "metadata": {},
   "outputs": [],
   "source": [
    "np.save('palm_train_features_resnet.bin',palm_train_features_resnet)\n",
    "np.save('palm_train_labels_resnet.bin',palm_train_labels_resnet)\n",
    "np.save('palm_valid_features_resnet.bin',palm_valid_features_resnet)\n",
    "np.save('palm_valid_labels_resnet.bin',palm_valid_labels_resnet)"
   ]
  },
  {
   "cell_type": "code",
   "execution_count": null,
   "id": "bde0b609-1691-4dfc-9e11-e92ec6cc2987",
   "metadata": {},
   "outputs": [],
   "source": [
    "palm_train_features_resnet=np.load('palm_train_features_resnet.npy')\n",
    "palm_train_labels_resnet=np.load('palm_train_labels_resnet.npy')\n",
    "palm_valid_features_resnet=np.load('palm_valid_features_resnet.npy')\n",
    "palm_valid_labels_resnet=np.load('palm_valid_labels_resnet.npy')"
   ]
  },
  {
   "cell_type": "code",
   "execution_count": null,
   "id": "f719d85e-146a-45bb-90ae-f2ab98011556",
   "metadata": {
    "tags": []
   },
   "outputs": [],
   "source": [
    "resnet_clasificator = models.Sequential()\n",
    "resnet_clasificator.add(layers.Flatten())\n",
    "resnet_clasificator.add(layers.Dense(4096, activation='relu', input_dim=(5 * 5 * 2048)))\n",
    "resnet_clasificator.add(layers.Dropout(0.5))\n",
    "resnet_clasificator.add(layers.Dense(4096, activation='relu'))\n",
    "resnet_clasificator.add(layers.Dropout(0.5))\n",
    "resnet_clasificator.add(layers.Dense(160, activation='softmax'))\n",
    "resnet_clasificator.compile(loss='categorical_crossentropy',\n",
    "                            metrics=['accuracy'],\n",
    "                            )"
   ]
  },
  {
   "cell_type": "code",
   "execution_count": null,
   "id": "10bb5537-6b9b-4d0b-8727-1a30ee320a8f",
   "metadata": {},
   "outputs": [],
   "source": [
    "early_stopping = callbacks.EarlyStopping(monitor='val_loss', patience=5)\n",
    "\n",
    "filepath = 'Models/Checkpoints/resnet/Classifier/weights-improvment.hdf5'\n",
    "\n",
    "resnet_clasificator_checkpoint = callbacks.ModelCheckpoint(\n",
    "    filepath=filepath,\n",
    " #   save_weights_only=True,\n",
    "    monitor='val_loss',\n",
    "    mode='min',\n",
    "    verbose=1,\n",
    "    save_best_only=True)\n",
    "\n",
    "history_resnet_clasificator = resnet_clasificator.fit(palm_train_features_resnet,\n",
    "                                                      palm_train_labels_resnet,\n",
    "                                                        epochs=100,\n",
    "                                                        batch_size=batch_size,\n",
    "                                                        validation_data=(palm_valid_features_resnet,palm_valid_labels_resnet),\n",
    "                                                        callbacks=[early_stopping,resnet_clasificator_checkpoint])"
   ]
  },
  {
   "cell_type": "code",
   "execution_count": null,
   "id": "7df307eb-033e-43f5-bcef-e0a2321b9ea6",
   "metadata": {},
   "outputs": [],
   "source": [
    "model_complet_resnet = models.Sequential()\n",
    "model_complet_resnet.add(conv_base_resnet)\n",
    "model_complet_resnet.add(resnet_clasificator)\n",
    "model_complet_resnet.compile(loss='categorical_crossentropy',\n",
    "                            metrics=['accuracy'],\n",
    "                            optimizer=optimizers.RMSprop(learning_rate=1e-5, momentum=0.9))\n"
   ]
  },
  {
   "cell_type": "code",
   "execution_count": null,
   "id": "a4fdf4bc-30cc-4642-8db5-52d9c44f6c2e",
   "metadata": {
    "tags": []
   },
   "outputs": [],
   "source": [
    "resnet_clasificator.summary()\n",
    "conv_base_resnet.summary()\n",
    "model_complet_resnet.summary()"
   ]
  },
  {
   "cell_type": "code",
   "execution_count": null,
   "id": "51a58ac2-4b52-4e50-b862-c0506d257d4e",
   "metadata": {
    "tags": []
   },
   "outputs": [],
   "source": [
    "early_stopping = callbacks.EarlyStopping(monitor='val_loss', patience=5)\n",
    "\n",
    "filepath = 'Models/Checkpoints/resnet/Model_complet/weights-improvment.hdf5'\n",
    "\n",
    "resnet_model_complet_checkpoint = callbacks.ModelCheckpoint(\n",
    "    filepath=filepath,\n",
    " #   save_weights_only=True,\n",
    "    monitor='val_loss',\n",
    "    mode='min',\n",
    "    verbose=1,\n",
    "    save_best_only=True)\n",
    "\n",
    "history_resnet_model_complet = model_complet_resnet.fit(palm_train_generator,\n",
    "                                                        epochs=100,\n",
    "                                                        batch_size=batch_size,\n",
    "                                                        validation_data=palm_valid_generator,\n",
    "                                                        callbacks=[early_stopping,resnet_model_complet_checkpoint])\n"
   ]
  },
  {
   "cell_type": "code",
   "execution_count": null,
   "id": "9bd8eace-8227-4505-8631-a9a3020d28af",
   "metadata": {
    "tags": []
   },
   "outputs": [],
   "source": [
    "conv_base_vgg19 = VGG19(weights='imagenet', include_top=False,\n",
    "                      input_shape=(150,150,3))"
   ]
  },
  {
   "cell_type": "code",
   "execution_count": null,
   "id": "be772cbe-d081-444a-80b5-68dd31862e4f",
   "metadata": {
    "tags": []
   },
   "outputs": [],
   "source": [
    "# inghetarea straturilor pentru a preveni alterarea ponderilor preantrenate\n",
    "print(\"Nr. parametrii antrenabili VGG19: \",len(conv_base_vgg19.trainable_weights))\n",
    "\n",
    "conv_base_vgg19.trainable = False\n",
    "\n",
    "print(\"Nr. parametrii antrenabili VGG19: \",len(conv_base_vgg19.trainable_weights))\n"
   ]
  },
  {
   "cell_type": "code",
   "execution_count": null,
   "id": "041a32c5-3c55-498a-ae27-3bc583d7e8ce",
   "metadata": {
    "tags": []
   },
   "outputs": [],
   "source": [
    "conv_base_vgg16.summary()\n",
    "conv_base_vgg19.summary()\n",
    "conv_base_resnet.summary()"
   ]
  },
  {
   "cell_type": "code",
   "execution_count": null,
   "id": "4184b33d-1512-47ff-af6b-5f4daa44e72f",
   "metadata": {
    "tags": []
   },
   "outputs": [],
   "source": [
    "palm_train_features_vgg19, palm_train_labels_vgg19 = extractFeatures(conv_base_vgg19,\n",
    "                                                                      palm_train_generator,\n",
    "                                                                      (int(6400*train_ratio),) + vgg19_out_shape,\n",
    "                                                                      batch_size\n",
    "                                                                     )\n"
   ]
  },
  {
   "cell_type": "code",
   "execution_count": null,
   "id": "5823d28e-6d29-4042-a8b4-65989224ee0f",
   "metadata": {
    "tags": []
   },
   "outputs": [],
   "source": [
    "palm_valid_features_vgg19, palm_valid_labels_vgg19 = extractFeatures(conv_base_vgg19,\n",
    "                                                                      palm_valid_generator,\n",
    "                                                                      (int(6400*valid_ratio),) + vgg19_out_shape,\n",
    "                                                                      batch_size\n",
    "                                                                     )"
   ]
  },
  {
   "cell_type": "code",
   "execution_count": null,
   "id": "ebb45a81-bd76-4d86-8a53-790fc1229012",
   "metadata": {
    "tags": []
   },
   "outputs": [],
   "source": [
    "vgg19_clasificator = models.Sequential()\n",
    "vgg19_clasificator.add(layers.Flatten())\n",
    "vgg19_clasificator.add(layers.Dense(4096, activation='relu', input_dim=(4 * 4 * 512)))\n",
    "vgg19_clasificator.add(layers.Dropout(0.5))\n",
    "vgg19_clasificator.add(layers.Dense(4096, activation='relu'))\n",
    "vgg19_clasificator.add(layers.Dropout(0.5))\n",
    "vgg19_clasificator.add(layers.Dense(160, activation='softmax'))\n",
    "vgg19_clasificator.compile(loss='categorical_crossentropy',metrics=['accuracy'],optimizer=optimizers.RMSprop(learning_rate=1e-5, momentum=0.9))"
   ]
  },
  {
   "cell_type": "code",
   "execution_count": null,
   "id": "e01d59a3-b6e2-4c93-8ec0-001d3e27e02d",
   "metadata": {
    "tags": []
   },
   "outputs": [],
   "source": [
    "early_stopping = callbacks.EarlyStopping(monitor='val_loss', patience=6)\n",
    "\n",
    "vgg16_class_path = 'Models/Checkpoints/vgg16/Classifier/'\n",
    "vgg19_class_path = 'Models/Checkpoints/vgg19/Classifier/'\n",
    "resnet_class_path = 'Models/Checkpoints/resnet/Classifier/'\n",
    "\n",
    "vgg16_model_path = 'Models/Checkpoints/vgg16/Model/'\n",
    "vgg19_model_path = 'Models/Checkpoints/vgg19/Model/'\n",
    "resnet_model_path = 'Models/Checkpoints/resnet/Model/'\n",
    "\n",
    "\n",
    "\n",
    "vgg16_clasificator_checkpoint = callbacks.ModelCheckpoint(\n",
    "    filepath=vgg16_class_path,\n",
    "    save_weights_only=True,\n",
    "    monitor='val_loss',\n",
    "    mode='min',\n",
    "    save_best_only=True)\n",
    "vgg16_model_checkpoint = callbacks.ModelCheckpoint(\n",
    "    filepath=vgg16_model_path,\n",
    "    save_weights_only=True,\n",
    "    monitor='val_loss',\n",
    "    mode='min',\n",
    "    save_best_only=True)\n",
    "\n",
    "\n",
    "\n",
    "vgg19_clasificator_checkpoint = callbacks.ModelCheckpoint(\n",
    "    filepath=vgg19_class_path,\n",
    "    save_weights_only=True,\n",
    "    monitor='val_loss',\n",
    "    mode='min',\n",
    "    save_best_only=True)\n",
    "\n",
    "vgg19_model_checkpoint = callbacks.ModelCheckpoint(\n",
    "    filepath=vgg19_model_path,\n",
    "    save_weights_only=True,\n",
    "    monitor='val_loss',\n",
    "    mode='min',\n",
    "    save_best_only=True)\n",
    "\n",
    "\n",
    "\n",
    "resnet_clasificator_checkpoint = callbacks.ModelCheckpoint(\n",
    "    filepath=resnet_class_path,\n",
    "    save_weights_only=True,\n",
    "    monitor='val_loss',\n",
    "    mode='min',\n",
    "    save_best_only=True)\n",
    "\n",
    "resnet_model_checkpoint = callbacks.ModelCheckpoint(\n",
    "    filepath=resnet_model_path,\n",
    "    save_weights_only=True,\n",
    "    monitor='val_loss',\n",
    "    mode='min',\n",
    "    save_best_only=True)"
   ]
  }
 ],
 "metadata": {
  "kernelspec": {
   "display_name": "Python 3 (ipykernel)",
   "language": "python",
   "name": "python3"
  },
  "language_info": {
   "codemirror_mode": {
    "name": "ipython",
    "version": 3
   },
   "file_extension": ".py",
   "mimetype": "text/x-python",
   "name": "python",
   "nbconvert_exporter": "python",
   "pygments_lexer": "ipython3",
   "version": "3.8.10"
  }
 },
 "nbformat": 4,
 "nbformat_minor": 5
}
