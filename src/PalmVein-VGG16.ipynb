{
 "cells": [
  {
   "cell_type": "markdown",
   "metadata": {
    "id": "NId83osaLIOb"
   },
   "source": [
    "TODO:\n",
    "\n",
    "De continuat cu o abordare multimodala, utilizand VGG-16 preantrenat, caruia i se va antrena ultimul strat, primele 4 fiind frozen. Ideal ar fi sa gasesc alte baze de date pe care sa antrenez modelul. De implementat abordarea multimodala."
   ]
  },
  {
   "cell_type": "code",
   "execution_count": 1,
   "metadata": {
    "id": "wd6_uc_vbQzG",
    "tags": []
   },
   "outputs": [],
   "source": [
    "import shutil\n",
    "from keras import layers\n",
    "from keras import models\n",
    "from tensorflow.keras import optimizers\n",
    "from palmtools import plotModelStats\n",
    "from palmtools import datasetCounter\n",
    "from palmtools import extractFeatures\n",
    "from keras.preprocessing.image import ImageDataGenerator\n",
    "from tensorflow.keras.applications import VGG16\n",
    "from tensorflow.keras import callbacks\n",
    "import palmtools\n",
    "import const\n",
    "import os"
   ]
  },
  {
   "cell_type": "code",
   "execution_count": 4,
   "metadata": {
    "tags": []
   },
   "outputs": [],
   "source": [
    "files1 = palmtools.getFilesArray(const.ROI,const.PALM)\n",
    "files2 = palmtools.getFilesArray(const.GENERATED,const.PALM)\n",
    "#files3 = palmtools.getFilesArray(const.GENERATED,const.DORSAL)\n",
    "palmtools.createDataset(const.PALM,files1,0,0,1)\n",
    "palmtools.createDataset(const.PALM,files2,0.7,0.3,0)"
   ]
  },
  {
   "cell_type": "code",
   "execution_count": 5,
   "metadata": {
    "id": "5HBpPZd7x3uQ",
    "tags": []
   },
   "outputs": [],
   "source": [
    "image_gen = ImageDataGenerator(rescale = 1./255)"
   ]
  },
  {
   "cell_type": "code",
   "execution_count": 6,
   "metadata": {
    "colab": {
     "base_uri": "https://localhost:8080/"
    },
    "executionInfo": {
     "elapsed": 826,
     "status": "ok",
     "timestamp": 1637603999143,
     "user": {
      "displayName": "Leonard Sfetcu",
      "photoUrl": "https://lh3.googleusercontent.com/a-/AOh14GhS0yrdLWV4UQ0n4T33uafkv6mmWcgecJJ3CoOcog=s64",
      "userId": "00059685694576457815"
     },
     "user_tz": -120
    },
    "id": "nUNg60Wxx8_U",
    "outputId": "fce2cfd0-4642-4fd7-ac8a-c6c7f0dd25b4",
    "tags": []
   },
   "outputs": [
    {
     "name": "stdout",
     "output_type": "stream",
     "text": [
      "Found 4480 images belonging to 160 classes.\n",
      "Found 1920 images belonging to 160 classes.\n",
      "Found 640 images belonging to 160 classes.\n"
     ]
    }
   ],
   "source": [
    "palm_train_generator = image_gen.flow_from_directory(\n",
    "    const.PALM_DS_DIR + const.TRAIN_DIR,\n",
    "    target_size=(150,150),\n",
    "    batch_size=32,\n",
    "    class_mode='categorical'\n",
    ")\n",
    "palm_valid_generator = image_gen.flow_from_directory(\n",
    "    const.PALM_DS_DIR + const.VALID_DIR,\n",
    "    target_size=(150,150),\n",
    "    batch_size=32,\n",
    "    class_mode='categorical'\n",
    ")\n",
    "palm_test_generator = image_gen.flow_from_directory(\n",
    "    const.PALM_DS_DIR + const.TEST_DIR,\n",
    "    target_size=(150,150),\n",
    "    batch_size=32,\n",
    "    class_mode='categorical'\n",
    ")"
   ]
  },
  {
   "cell_type": "code",
   "execution_count": 9,
   "metadata": {
    "tags": []
   },
   "outputs": [
    {
     "name": "stderr",
     "output_type": "stream",
     "text": [
      "2022-01-24 22:12:37.946558: I tensorflow/stream_executor/cuda/cuda_gpu_executor.cc:939] successful NUMA node read from SysFS had negative value (-1), but there must be at least one NUMA node, so returning NUMA node zero\n",
      "2022-01-24 22:12:38.628564: I tensorflow/stream_executor/cuda/cuda_gpu_executor.cc:939] successful NUMA node read from SysFS had negative value (-1), but there must be at least one NUMA node, so returning NUMA node zero\n",
      "2022-01-24 22:12:38.629163: I tensorflow/stream_executor/cuda/cuda_gpu_executor.cc:939] successful NUMA node read from SysFS had negative value (-1), but there must be at least one NUMA node, so returning NUMA node zero\n",
      "2022-01-24 22:12:38.637104: I tensorflow/core/platform/cpu_feature_guard.cc:151] This TensorFlow binary is optimized with oneAPI Deep Neural Network Library (oneDNN) to use the following CPU instructions in performance-critical operations:  AVX2 FMA\n",
      "To enable them in other operations, rebuild TensorFlow with the appropriate compiler flags.\n",
      "2022-01-24 22:12:38.650085: I tensorflow/stream_executor/cuda/cuda_gpu_executor.cc:939] successful NUMA node read from SysFS had negative value (-1), but there must be at least one NUMA node, so returning NUMA node zero\n",
      "2022-01-24 22:12:38.650661: I tensorflow/stream_executor/cuda/cuda_gpu_executor.cc:939] successful NUMA node read from SysFS had negative value (-1), but there must be at least one NUMA node, so returning NUMA node zero\n",
      "2022-01-24 22:12:38.651104: I tensorflow/stream_executor/cuda/cuda_gpu_executor.cc:939] successful NUMA node read from SysFS had negative value (-1), but there must be at least one NUMA node, so returning NUMA node zero\n",
      "2022-01-24 22:12:42.850906: I tensorflow/stream_executor/cuda/cuda_gpu_executor.cc:939] successful NUMA node read from SysFS had negative value (-1), but there must be at least one NUMA node, so returning NUMA node zero\n",
      "2022-01-24 22:12:42.851464: I tensorflow/stream_executor/cuda/cuda_gpu_executor.cc:939] successful NUMA node read from SysFS had negative value (-1), but there must be at least one NUMA node, so returning NUMA node zero\n",
      "2022-01-24 22:12:42.851982: I tensorflow/stream_executor/cuda/cuda_gpu_executor.cc:939] successful NUMA node read from SysFS had negative value (-1), but there must be at least one NUMA node, so returning NUMA node zero\n",
      "2022-01-24 22:12:42.852386: I tensorflow/core/common_runtime/gpu/gpu_device.cc:1525] Created device /job:localhost/replica:0/task:0/device:GPU:0 with 2993 MB memory:  -> device: 0, name: NVIDIA GeForce GTX 950M, pci bus id: 0000:01:00.0, compute capability: 5.0\n"
     ]
    }
   ],
   "source": [
    "# initializare model preantrenat VGG-16, fara clasificator\n",
    "conv_base = VGG16(weights='imagenet',\n",
    "                  include_top=False,\n",
    "                  input_shape=(150,150,3))"
   ]
  },
  {
   "cell_type": "code",
   "execution_count": 10,
   "metadata": {
    "tags": []
   },
   "outputs": [
    {
     "name": "stdout",
     "output_type": "stream",
     "text": [
      "Model: \"vgg16\"\n",
      "_________________________________________________________________\n",
      " Layer (type)                Output Shape              Param #   \n",
      "=================================================================\n",
      " input_1 (InputLayer)        [(None, 150, 150, 3)]     0         \n",
      "                                                                 \n",
      " block1_conv1 (Conv2D)       (None, 150, 150, 64)      1792      \n",
      "                                                                 \n",
      " block1_conv2 (Conv2D)       (None, 150, 150, 64)      36928     \n",
      "                                                                 \n",
      " block1_pool (MaxPooling2D)  (None, 75, 75, 64)        0         \n",
      "                                                                 \n",
      " block2_conv1 (Conv2D)       (None, 75, 75, 128)       73856     \n",
      "                                                                 \n",
      " block2_conv2 (Conv2D)       (None, 75, 75, 128)       147584    \n",
      "                                                                 \n",
      " block2_pool (MaxPooling2D)  (None, 37, 37, 128)       0         \n",
      "                                                                 \n",
      " block3_conv1 (Conv2D)       (None, 37, 37, 256)       295168    \n",
      "                                                                 \n",
      " block3_conv2 (Conv2D)       (None, 37, 37, 256)       590080    \n",
      "                                                                 \n",
      " block3_conv3 (Conv2D)       (None, 37, 37, 256)       590080    \n",
      "                                                                 \n",
      " block3_pool (MaxPooling2D)  (None, 18, 18, 256)       0         \n",
      "                                                                 \n",
      " block4_conv1 (Conv2D)       (None, 18, 18, 512)       1180160   \n",
      "                                                                 \n",
      " block4_conv2 (Conv2D)       (None, 18, 18, 512)       2359808   \n",
      "                                                                 \n",
      " block4_conv3 (Conv2D)       (None, 18, 18, 512)       2359808   \n",
      "                                                                 \n",
      " block4_pool (MaxPooling2D)  (None, 9, 9, 512)         0         \n",
      "                                                                 \n",
      " block5_conv1 (Conv2D)       (None, 9, 9, 512)         2359808   \n",
      "                                                                 \n",
      " block5_conv2 (Conv2D)       (None, 9, 9, 512)         2359808   \n",
      "                                                                 \n",
      " block5_conv3 (Conv2D)       (None, 9, 9, 512)         2359808   \n",
      "                                                                 \n",
      " block5_pool (MaxPooling2D)  (None, 4, 4, 512)         0         \n",
      "                                                                 \n",
      "=================================================================\n",
      "Total params: 14,714,688\n",
      "Trainable params: 14,714,688\n",
      "Non-trainable params: 0\n",
      "_________________________________________________________________\n"
     ]
    }
   ],
   "source": [
    "conv_base.summary()"
   ]
  },
  {
   "cell_type": "code",
   "execution_count": 11,
   "metadata": {},
   "outputs": [],
   "source": [
    "# inghetarea straturilor pentru a preveni alterarea ponderilor preantrenate\n",
    "conv_base.trainable = False\n",
    "conv_base.compile(loss='categorical_crossentropy',\n",
    "                  metrics=['accuracy'])"
   ]
  },
  {
   "cell_type": "code",
   "execution_count": 12,
   "metadata": {
    "tags": []
   },
   "outputs": [
    {
     "name": "stdout",
     "output_type": "stream",
     "text": [
      "Found 4480 images belonging to 160 classes.\n"
     ]
    },
    {
     "name": "stderr",
     "output_type": "stream",
     "text": [
      "2022-01-24 22:13:01.592633: I tensorflow/stream_executor/cuda/cuda_dnn.cc:366] Loaded cuDNN version 8301\n",
      "2022-01-24 22:13:07.835822: I tensorflow/core/platform/default/subprocess.cc:304] Start cannot spawn child process: No such file or directory\n",
      "2022-01-24 22:13:08.634102: W tensorflow/core/common_runtime/bfc_allocator.cc:275] Allocator (GPU_0_bfc) ran out of memory trying to allocate 2.66GiB with freed_by_count=0. The caller indicates that this is not a failure, but may mean that there could be performance gains if more memory were available.\n"
     ]
    },
    {
     "name": "stdout",
     "output_type": "stream",
     "text": [
      "Found 1920 images belonging to 160 classes.\n",
      "Found 640 images belonging to 160 classes.\n"
     ]
    }
   ],
   "source": [
    "palm_train_features, palm_train_labels = extractFeatures(conv_base,const.PALM_DS_DIR + const.TRAIN_DIR,4480)\n",
    "palm_valid_features, palm_valid_labels = extractFeatures(conv_base,const.PALM_DS_DIR + const.VALID_DIR,1920)\n",
    "palm_test_features, palm_test_labels = extractFeatures(conv_base,const.PALM_DS_DIR + const.TEST_DIR,640)"
   ]
  },
  {
   "cell_type": "code",
   "execution_count": 13,
   "metadata": {
    "tags": []
   },
   "outputs": [],
   "source": [
    "clasificator = models.Sequential()\n",
    "clasificator.add(layers.Flatten())\n",
    "clasificator.add(layers.Dense(4096, activation='relu', input_dim=(4 * 4 * 512)))\n",
    "clasificator.add(layers.Dropout(0.3))\n",
    "clasificator.add(layers.Dense(4096, activation='relu'))\n",
    "#clasificator.add(layers.Dropout(0.2))\n",
    "clasificator.add(layers.Dense(160, activation='softmax'))\n",
    "clasificator.compile(loss='categorical_crossentropy',metrics=['accuracy'])"
   ]
  },
  {
   "cell_type": "code",
   "execution_count": 22,
   "metadata": {},
   "outputs": [],
   "source": [
    "early_stopping = callbacks.EarlyStopping(monitor='val_loss', patience=5)\n",
    "clasificator_checkpoint_callback = callbacks.ModelCheckpoint(\n",
    "    filepath=\"Models/Checkpoints/Classifier/\",\n",
    "    save_weights_only=False,\n",
    "    monitor='val_accuracy',\n",
    "    mode='max',\n",
    "    save_best_only=True)\n",
    "model_complet_checkpoint_callback = callbacks.ModelCheckpoint(\n",
    "    filepath=\"Models/Checkpoints/Model_complet/\",\n",
    "    save_weights_only=False,\n",
    "    monitor='val_loss',\n",
    "    mode='min',\n",
    "    save_best_only=True)\n"
   ]
  },
  {
   "cell_type": "code",
   "execution_count": 15,
   "metadata": {
    "tags": []
   },
   "outputs": [
    {
     "name": "stdout",
     "output_type": "stream",
     "text": [
      "Epoch 1/70\n",
      "140/140 [==============================] - ETA: 0s - loss: 6.0694 - accuracy: 0.0246"
     ]
    },
    {
     "name": "stderr",
     "output_type": "stream",
     "text": [
      "2022-01-24 22:16:42.493317: W tensorflow/python/util/util.cc:368] Sets are not currently considered sequences, but this may change in the future, so consider avoiding using them.\n"
     ]
    },
    {
     "name": "stdout",
     "output_type": "stream",
     "text": [
      "INFO:tensorflow:Assets written to: Models/Checkpoints/Classifier/assets\n",
      "140/140 [==============================] - 17s 119ms/step - loss: 6.0694 - accuracy: 0.0246 - val_loss: 4.0620 - val_accuracy: 0.0938\n",
      "Epoch 2/70\n",
      "140/140 [==============================] - ETA: 0s - loss: 3.7111 - accuracy: 0.1346INFO:tensorflow:Assets written to: Models/Checkpoints/Classifier/assets\n",
      "140/140 [==============================] - 16s 115ms/step - loss: 3.7111 - accuracy: 0.1346 - val_loss: 2.9749 - val_accuracy: 0.2693\n",
      "Epoch 3/70\n",
      "140/140 [==============================] - ETA: 0s - loss: 2.6339 - accuracy: 0.3058INFO:tensorflow:Assets written to: Models/Checkpoints/Classifier/assets\n",
      "140/140 [==============================] - 16s 116ms/step - loss: 2.6339 - accuracy: 0.3058 - val_loss: 1.7112 - val_accuracy: 0.5167\n",
      "Epoch 4/70\n",
      "140/140 [==============================] - ETA: 0s - loss: 1.8721 - accuracy: 0.4960INFO:tensorflow:Assets written to: Models/Checkpoints/Classifier/assets\n",
      "140/140 [==============================] - 16s 113ms/step - loss: 1.8721 - accuracy: 0.4960 - val_loss: 1.0609 - val_accuracy: 0.7052\n",
      "Epoch 5/70\n",
      "140/140 [==============================] - ETA: 0s - loss: 1.3974 - accuracy: 0.5998INFO:tensorflow:Assets written to: Models/Checkpoints/Classifier/assets\n",
      "140/140 [==============================] - 16s 113ms/step - loss: 1.3974 - accuracy: 0.5998 - val_loss: 0.8133 - val_accuracy: 0.7604\n",
      "Epoch 6/70\n",
      "140/140 [==============================] - ETA: 0s - loss: 1.0530 - accuracy: 0.6875INFO:tensorflow:Assets written to: Models/Checkpoints/Classifier/assets\n",
      "140/140 [==============================] - 16s 114ms/step - loss: 1.0530 - accuracy: 0.6875 - val_loss: 0.7365 - val_accuracy: 0.7859\n",
      "Epoch 7/70\n",
      "140/140 [==============================] - ETA: 0s - loss: 0.8187 - accuracy: 0.7645INFO:tensorflow:Assets written to: Models/Checkpoints/Classifier/assets\n",
      "140/140 [==============================] - 16s 115ms/step - loss: 0.8187 - accuracy: 0.7645 - val_loss: 0.4446 - val_accuracy: 0.8646\n",
      "Epoch 8/70\n",
      "140/140 [==============================] - ETA: 0s - loss: 0.6810 - accuracy: 0.8036INFO:tensorflow:Assets written to: Models/Checkpoints/Classifier/assets\n",
      "140/140 [==============================] - 16s 115ms/step - loss: 0.6810 - accuracy: 0.8036 - val_loss: 0.3690 - val_accuracy: 0.8776\n",
      "Epoch 9/70\n",
      "140/140 [==============================] - ETA: 0s - loss: 0.6110 - accuracy: 0.8257INFO:tensorflow:Assets written to: Models/Checkpoints/Classifier/assets\n",
      "140/140 [==============================] - 16s 113ms/step - loss: 0.6110 - accuracy: 0.8257 - val_loss: 0.2731 - val_accuracy: 0.9104\n",
      "Epoch 10/70\n",
      "140/140 [==============================] - ETA: 0s - loss: 0.5291 - accuracy: 0.8464INFO:tensorflow:Assets written to: Models/Checkpoints/Classifier/assets\n",
      "140/140 [==============================] - 16s 113ms/step - loss: 0.5291 - accuracy: 0.8464 - val_loss: 0.1641 - val_accuracy: 0.9474\n",
      "Epoch 11/70\n",
      "140/140 [==============================] - 12s 85ms/step - loss: 0.4738 - accuracy: 0.8705 - val_loss: 0.1960 - val_accuracy: 0.9370\n",
      "Epoch 12/70\n",
      "140/140 [==============================] - 12s 85ms/step - loss: 0.4605 - accuracy: 0.8741 - val_loss: 0.1937 - val_accuracy: 0.9365\n",
      "Epoch 13/70\n",
      "140/140 [==============================] - 12s 85ms/step - loss: 0.4269 - accuracy: 0.8770 - val_loss: 0.2712 - val_accuracy: 0.9130\n",
      "Epoch 14/70\n",
      "140/140 [==============================] - 12s 84ms/step - loss: 0.4003 - accuracy: 0.8964 - val_loss: 0.3300 - val_accuracy: 0.9078\n",
      "Epoch 15/70\n",
      "140/140 [==============================] - ETA: 0s - loss: 0.3573 - accuracy: 0.9020INFO:tensorflow:Assets written to: Models/Checkpoints/Classifier/assets\n",
      "140/140 [==============================] - 16s 112ms/step - loss: 0.3573 - accuracy: 0.9020 - val_loss: 0.1105 - val_accuracy: 0.9625\n",
      "Epoch 16/70\n",
      "140/140 [==============================] - 12s 85ms/step - loss: 0.3355 - accuracy: 0.9125 - val_loss: 0.1516 - val_accuracy: 0.9536\n",
      "Epoch 17/70\n",
      "140/140 [==============================] - ETA: 0s - loss: 0.3569 - accuracy: 0.9092INFO:tensorflow:Assets written to: Models/Checkpoints/Classifier/assets\n",
      "140/140 [==============================] - 16s 114ms/step - loss: 0.3569 - accuracy: 0.9092 - val_loss: 0.0622 - val_accuracy: 0.9781\n",
      "Epoch 18/70\n",
      "140/140 [==============================] - 12s 85ms/step - loss: 0.3453 - accuracy: 0.9154 - val_loss: 0.1190 - val_accuracy: 0.9630\n",
      "Epoch 19/70\n",
      "140/140 [==============================] - 12s 85ms/step - loss: 0.3330 - accuracy: 0.9203 - val_loss: 0.0791 - val_accuracy: 0.9776\n",
      "Epoch 20/70\n",
      "140/140 [==============================] - 12s 85ms/step - loss: 0.3055 - accuracy: 0.9279 - val_loss: 0.0885 - val_accuracy: 0.9750\n",
      "Epoch 21/70\n",
      "140/140 [==============================] - 12s 85ms/step - loss: 0.2870 - accuracy: 0.9295 - val_loss: 0.1719 - val_accuracy: 0.9495\n",
      "Epoch 22/70\n",
      "140/140 [==============================] - 12s 85ms/step - loss: 0.2947 - accuracy: 0.9281 - val_loss: 0.1637 - val_accuracy: 0.9557\n"
     ]
    }
   ],
   "source": [
    "history_clasificator = clasificator.fit(palm_train_features,palm_train_labels,\n",
    "                      epochs=70,\n",
    "                      batch_size=32,\n",
    "                      validation_data=(palm_valid_features,palm_valid_labels),\n",
    "                                       callbacks=[early_stopping,clasificator_checkpoint_callback])\n"
   ]
  },
  {
   "cell_type": "code",
   "execution_count": 16,
   "metadata": {
    "tags": []
   },
   "outputs": [
    {
     "data": {
      "image/png": "[encoded data removed]",
      "text/plain": [
       "<Figure size 432x288 with 1 Axes>"
      ]
     },
     "metadata": {
      "needs_background": "light"
     },
     "output_type": "display_data"
    },
    {
     "data": {
      "image/png": "[encoded data removed]",
      "text/plain": [
       "<Figure size 432x288 with 1 Axes>"
      ]
     },
     "metadata": {
      "needs_background": "light"
     },
     "output_type": "display_data"
    }
   ],
   "source": [
    "plotModelStats(history_clasificator)\n"
   ]
  },
  {
   "cell_type": "code",
   "execution_count": 17,
   "metadata": {
    "tags": []
   },
   "outputs": [
    {
     "name": "stdout",
     "output_type": "stream",
     "text": [
      "Numarul de parametrii antrenabili:  0\n",
      "Numarul de parametrii antrenabili:  12\n"
     ]
    }
   ],
   "source": [
    "print(\"Numarul de parametrii antrenabili: \",len(conv_base.trainable_weights))\n",
    "conv_base.trainable = True\n",
    "set_trainable = False\n",
    "for layer in conv_base.layers:\n",
    "    if ('block4' in layer.name) or ('block5' in layer.name):\n",
    "        set_trainable = True\n",
    "    if set_trainable:\n",
    "        layer.trainable = True\n",
    "    else:\n",
    "        layer.trainable = False\n",
    "print(\"Numarul de parametrii antrenabili: \",len(conv_base.trainable_weights))\n",
    "conv_base.compile(loss='categorical_crossentropy',\n",
    "                  metrics=['acc'])"
   ]
  },
  {
   "cell_type": "code",
   "execution_count": 18,
   "metadata": {},
   "outputs": [],
   "source": [
    "model_complet = models.Sequential()\n",
    "\n",
    "model_complet.add(conv_base)\n",
    "model_complet.add(clasificator)\n",
    "\n",
    "model_complet.compile(loss='categorical_crossentropy',\n",
    "                      optimizer=optimizers.RMSprop(learning_rate=1e-5),\n",
    "                      metrics=['accuracy'])"
   ]
  },
  {
   "cell_type": "code",
   "execution_count": 20,
   "metadata": {
    "tags": []
   },
   "outputs": [
    {
     "name": "stdout",
     "output_type": "stream",
     "text": [
      "Epoch 1/20\n"
     ]
    },
    {
     "name": "stderr",
     "output_type": "stream",
     "text": [
      "2022-01-24 22:23:21.356818: W tensorflow/core/common_runtime/bfc_allocator.cc:275] Allocator (GPU_0_bfc) ran out of memory trying to allocate 1.56GiB with freed_by_count=0. The caller indicates that this is not a failure, but may mean that there could be performance gains if more memory were available.\n",
      "2022-01-24 22:23:21.356936: W tensorflow/core/common_runtime/bfc_allocator.cc:275] Allocator (GPU_0_bfc) ran out of memory trying to allocate 3.04GiB with freed_by_count=0. The caller indicates that this is not a failure, but may mean that there could be performance gains if more memory were available.\n",
      "2022-01-24 22:23:22.163143: W tensorflow/core/common_runtime/bfc_allocator.cc:275] Allocator (GPU_0_bfc) ran out of memory trying to allocate 2.55GiB with freed_by_count=0. The caller indicates that this is not a failure, but may mean that there could be performance gains if more memory were available.\n",
      "2022-01-24 22:23:22.768372: W tensorflow/core/common_runtime/bfc_allocator.cc:275] Allocator (GPU_0_bfc) ran out of memory trying to allocate 2.34GiB with freed_by_count=0. The caller indicates that this is not a failure, but may mean that there could be performance gains if more memory were available.\n",
      "2022-01-24 22:23:23.351925: W tensorflow/core/common_runtime/bfc_allocator.cc:275] Allocator (GPU_0_bfc) ran out of memory trying to allocate 2.28GiB with freed_by_count=0. The caller indicates that this is not a failure, but may mean that there could be performance gains if more memory were available.\n",
      "2022-01-24 22:23:25.921271: W tensorflow/core/common_runtime/bfc_allocator.cc:275] Allocator (GPU_0_bfc) ran out of memory trying to allocate 1.21GiB with freed_by_count=0. The caller indicates that this is not a failure, but may mean that there could be performance gains if more memory were available.\n",
      "2022-01-24 22:23:26.182031: W tensorflow/core/common_runtime/bfc_allocator.cc:275] Allocator (GPU_0_bfc) ran out of memory trying to allocate 2.28GiB with freed_by_count=0. The caller indicates that this is not a failure, but may mean that there could be performance gains if more memory were available.\n",
      "2022-01-24 22:23:26.182115: W tensorflow/core/common_runtime/bfc_allocator.cc:275] Allocator (GPU_0_bfc) ran out of memory trying to allocate 1.21GiB with freed_by_count=0. The caller indicates that this is not a failure, but may mean that there could be performance gains if more memory were available.\n",
      "2022-01-24 22:23:26.408658: W tensorflow/core/common_runtime/bfc_allocator.cc:275] Allocator (GPU_0_bfc) ran out of memory trying to allocate 2.16GiB with freed_by_count=0. The caller indicates that this is not a failure, but may mean that there could be performance gains if more memory were available.\n"
     ]
    },
    {
     "name": "stdout",
     "output_type": "stream",
     "text": [
      "140/140 [==============================] - ETA: 0s - loss: 0.2973 - accuracy: 0.9406INFO:tensorflow:Assets written to: Models/Checkpoints/Model_complet/assets\n",
      "140/140 [==============================] - 102s 682ms/step - loss: 0.2973 - accuracy: 0.9406 - val_loss: 0.1855 - val_accuracy: 0.9573\n",
      "Epoch 2/20\n",
      "140/140 [==============================] - ETA: 0s - loss: 0.1451 - accuracy: 0.9596INFO:tensorflow:Assets written to: Models/Checkpoints/Model_complet/assets\n",
      "140/140 [==============================] - 103s 733ms/step - loss: 0.1451 - accuracy: 0.9596 - val_loss: 0.0501 - val_accuracy: 0.9901\n",
      "Epoch 3/20\n",
      "140/140 [==============================] - 93s 665ms/step - loss: 0.1456 - accuracy: 0.9625 - val_loss: 0.1086 - val_accuracy: 0.9703\n",
      "Epoch 4/20\n",
      "140/140 [==============================] - 92s 659ms/step - loss: 0.1128 - accuracy: 0.9699 - val_loss: 0.0542 - val_accuracy: 0.9844\n",
      "Epoch 5/20\n",
      "140/140 [==============================] - 93s 664ms/step - loss: 0.0858 - accuracy: 0.9748 - val_loss: 0.2246 - val_accuracy: 0.9474\n",
      "Epoch 6/20\n",
      "140/140 [==============================] - 92s 659ms/step - loss: 0.0829 - accuracy: 0.9775 - val_loss: 0.0393 - val_accuracy: 0.9896\n",
      "Epoch 7/20\n",
      "140/140 [==============================] - 97s 695ms/step - loss: 0.0833 - accuracy: 0.9772 - val_loss: 0.0234 - val_accuracy: 0.9885\n",
      "Epoch 8/20\n",
      "140/140 [==============================] - 95s 676ms/step - loss: 0.0777 - accuracy: 0.9786 - val_loss: 0.0566 - val_accuracy: 0.9818\n",
      "Epoch 9/20\n",
      "140/140 [==============================] - ETA: 0s - loss: 0.0750 - accuracy: 0.9788INFO:tensorflow:Assets written to: Models/Checkpoints/Model_complet/assets\n",
      "140/140 [==============================] - 102s 728ms/step - loss: 0.0750 - accuracy: 0.9788 - val_loss: 0.0400 - val_accuracy: 0.9906\n",
      "Epoch 10/20\n",
      "140/140 [==============================] - 93s 664ms/step - loss: 0.0549 - accuracy: 0.9844 - val_loss: 0.0477 - val_accuracy: 0.9839\n",
      "Epoch 11/20\n",
      "140/140 [==============================] - 95s 681ms/step - loss: 0.0662 - accuracy: 0.9799 - val_loss: 0.0400 - val_accuracy: 0.9880\n",
      "Epoch 12/20\n",
      "140/140 [==============================] - 93s 663ms/step - loss: 0.0548 - accuracy: 0.9853 - val_loss: 0.0291 - val_accuracy: 0.9891\n"
     ]
    }
   ],
   "source": [
    "history_complet = model_complet.fit(palm_train_generator,\n",
    "                      epochs=20,\n",
    "                      batch_size=32,\n",
    "                      validation_data=palm_valid_generator,\n",
    "                                   callbacks=[early_stopping,model_complet_checkpoint_callback])"
   ]
  },
  {
   "cell_type": "code",
   "execution_count": 23,
   "metadata": {
    "tags": []
   },
   "outputs": [
    {
     "data": {
      "image/png": "[encoded data removed]",
      "text/plain": [
       "<Figure size 432x288 with 1 Axes>"
      ]
     },
     "metadata": {
      "needs_background": "light"
     },
     "output_type": "display_data"
    },
    {
     "data": {
      "image/png": "[encoded data removed]",
      "text/plain": [
       "<Figure size 432x288 with 1 Axes>"
      ]
     },
     "metadata": {
      "needs_background": "light"
     },
     "output_type": "display_data"
    }
   ],
   "source": [
    "plotModelStats(history_complet)"
   ]
  },
  {
   "cell_type": "code",
   "execution_count": 24,
   "metadata": {
    "tags": []
   },
   "outputs": [
    {
     "name": "stdout",
     "output_type": "stream",
     "text": [
      "20/20 [==============================] - 10s 506ms/step - loss: 0.0024 - accuracy: 0.9984\n",
      "test acc: 0.9984375238418579\n"
     ]
    }
   ],
   "source": [
    "test_loss, test_acc = model_complet.evaluate(palm_test_generator, steps=20)\n",
    "print('test acc:', test_acc)"
   ]
  },
  {
   "cell_type": "code",
   "execution_count": 29,
   "metadata": {},
   "outputs": [],
   "source": [
    "conv_base.save('Models/3/conv_base-24.01.2022.h5')\n",
    "clasificator.save('Models/3/clasificator-24.01.2022.h5')\n",
    "model_complet.save('Models/3/model_complet-24.01.2022.h5')"
   ]
  },
  {
   "cell_type": "code",
   "execution_count": 28,
   "metadata": {},
   "outputs": [],
   "source": [
    "import pickle\n",
    "with open('Models/3/history_clasificator.bin', 'wb') as file_pi:\n",
    "    pickle.dump(history_clasificator.history, file_pi)"
   ]
  },
  {
   "cell_type": "code",
   "execution_count": 31,
   "metadata": {},
   "outputs": [],
   "source": [
    "output = model_complet.predict(palm_test_generator)"
   ]
  }
 ],
 "metadata": {
  "colab": {
   "authorship_tag": "ABX9TyORHdJqCeNtkKsR3HB7hEeR",
   "collapsed_sections": [],
   "mount_file_id": "1YGAXDUKVPXYjheh9uWHY2iZ8ffcvQIgx",
   "name": "PalmVein.ipynb",
   "version": ""
  },
  "kernelspec": {
   "display_name": "Python 3 (ipykernel)",
   "language": "python",
   "name": "python3"
  },
  "language_info": {
   "codemirror_mode": {
    "name": "ipython",
    "version": 3
   },
   "file_extension": ".py",
   "mimetype": "text/x-python",
   "name": "python",
   "nbconvert_exporter": "python",
   "pygments_lexer": "ipython3",
   "version": "3.8.10"
  }
 },
 "nbformat": 4,
 "nbformat_minor": 4
}
